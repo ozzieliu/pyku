{
 "cells": [
  {
   "cell_type": "code",
   "execution_count": 10,
   "metadata": {
    "collapsed": true
   },
   "outputs": [],
   "source": [
    "import re"
   ]
  },
  {
   "cell_type": "code",
   "execution_count": 21,
   "metadata": {
    "collapsed": false
   },
   "outputs": [],
   "source": [
    "def count_syllables(sentence):\n",
    "    syllable = 0\n",
    "    \n",
    "    ## Split sentence into words\n",
    "    words = sentence.split()\n",
    "    \n",
    "    print(words)\n",
    "    \n",
    "    for word in words:\n",
    "        ## Check word length\n",
    "        if len(word) <= 3:\n",
    "            syllable += 1\n",
    "\n",
    "        else:\n",
    "            vowels = re.findall('[AEIOUaeiou]+', word)\n",
    "            syllable += len(vowels)\n",
    "\n",
    "            if not word.endswith('le') and re.findall(r'(?:e|es|ed)\\b', word):\n",
    "                syllable -= 1\n",
    "            elif word.endswith('y'):\n",
    "                syllable += 1\n",
    "        \n",
    "    return syllable\n",
    "#     print(sentence, '\\t', syllable)"
   ]
  },
  {
   "cell_type": "code",
   "execution_count": 6,
   "metadata": {
    "collapsed": false
   },
   "outputs": [],
   "source": [
    "sentence = 'It is better to'"
   ]
  },
  {
   "cell_type": "code",
   "execution_count": 22,
   "metadata": {
    "collapsed": false
   },
   "outputs": [
    {
     "name": "stdout",
     "output_type": "stream",
     "text": [
      "['It', 'is', 'better', 'to']\n",
      "5\n"
     ]
    }
   ],
   "source": [
    "print(count_syllables(sentence))"
   ]
  },
  {
   "cell_type": "code",
   "execution_count": null,
   "metadata": {
    "collapsed": true
   },
   "outputs": [],
   "source": []
  }
 ],
 "metadata": {
  "kernelspec": {
   "display_name": "Python 3",
   "language": "python",
   "name": "python3"
  },
  "language_info": {
   "codemirror_mode": {
    "name": "ipython",
    "version": 3
   },
   "file_extension": ".py",
   "mimetype": "text/x-python",
   "name": "python",
   "nbconvert_exporter": "python",
   "pygments_lexer": "ipython3",
   "version": "3.5.1"
  }
 },
 "nbformat": 4,
 "nbformat_minor": 0
}
